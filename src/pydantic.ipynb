{
 "cells": [
  {
   "cell_type": "code",
   "execution_count": 25,
   "metadata": {},
   "outputs": [],
   "source": [
    "from datetime import datetime\n",
    "\n",
    "\n",
    "from pydantic import (\n",
    "    Field, \n",
    "    ConfigDict, \n",
    "    BaseModel, \n",
    "    ValidationError,\n",
    "    ValidationInfo,\n",
    "    field_validator\n",
    ")\n",
    "\n",
    "import uuid\n",
    "\n",
    "from typing import Annotated, List, Optional\n",
    "from pydantic.functional_validators import BeforeValidator\n",
    "from pprint import pprint as print\n",
    "# from fastapi import FastAPI, Body, HTTPException, status\n",
    "# from fastapi.responses import Response\n",
    "# from pydantic.functional_validators import BeforeValidator\n",
    "\n",
    "# from typing_extensions import Annotated\n",
    "\n",
    "# from bson import ObjectId\n",
    "# import motor.motor_asyncio\n",
    "# from pymongo import ReturnDocument\n"
   ]
  },
  {
   "cell_type": "code",
   "execution_count": 4,
   "metadata": {},
   "outputs": [
    {
     "name": "stdout",
     "output_type": "stream",
     "text": [
      "{'when': datetime.datetime(2020, 1, 1, 12, 0), 'where': b'home'}\n",
      "{'when': '2020-01-01T12:00:00', 'why': 'No idea'}\n",
      "{\"when\":\"2020-01-01T12:00:00\",\"where\":\"home\"}\n"
     ]
    }
   ],
   "source": [
    "\n",
    "class Meeting(BaseModel):\n",
    "    when: datetime\n",
    "    where: bytes\n",
    "    why: str = 'No idea'\n",
    "\n",
    "\n",
    "m = Meeting(\n",
    "    when='2020-01-01T12:00',\n",
    "    where='home'\n",
    ")\n",
    "\n",
    "print(m.model_dump(exclude_unset=True))\n",
    "#> {'when': datetime.datetime(2020, 1, 1, 12, 0), 'where': b'home'}\n",
    "print(m.model_dump(exclude={'where'}, mode='json'))\n",
    "#> {'when': '2020-01-01T12:00:00', 'why': 'No idea'}\n",
    "print(m.model_dump_json(exclude_defaults=True))\n",
    "#> {\"when\":\"2020-01-01T12:00:00\",\"where\":\"home\"}\n"
   ]
  },
  {
   "cell_type": "code",
   "execution_count": 9,
   "metadata": {},
   "outputs": [
    {
     "name": "stdout",
     "output_type": "stream",
     "text": [
      "{'$defs': {'Address': {'properties': {'street': {'title': 'Street', 'type': 'string'}, 'city': {'title': 'City', 'type': 'string'}, 'zipcode': {'title': 'Zipcode', 'type': 'string'}}, 'required': ['street', 'city', 'zipcode'], 'title': 'Address', 'type': 'object'}}, 'properties': {'when': {'format': 'date-time', 'title': 'When', 'type': 'string'}, 'where': {'$ref': '#/$defs/Address'}, 'why': {'default': 'No idea', 'title': 'Why', 'type': 'string'}}, 'required': ['when', 'where'], 'title': 'Meeting', 'type': 'object'}\n"
     ]
    }
   ],
   "source": [
    "\n",
    "\n",
    "class Address(BaseModel):\n",
    "    street: str\n",
    "    city: str\n",
    "    zipcode: str\n",
    "\n",
    "\n",
    "class Meeting(BaseModel):\n",
    "    when: datetime\n",
    "    where: Address\n",
    "    why: str = 'No idea'\n",
    "\n",
    "    def schema(self):\n",
    "        return self.model_json_schema()\n",
    "    \n",
    "\n",
    "m = Meeting(\n",
    "    when='2020-01-01T12:00',\n",
    "    where={'street': 'home', 'city': 'city', 'zipcode': '12345'}\n",
    ")\n",
    "\n",
    "print(m.schema())"
   ]
  },
  {
   "cell_type": "code",
   "execution_count": 32,
   "metadata": {},
   "outputs": [
    {
     "name": "stdout",
     "output_type": "stream",
     "text": [
      "{'completed_at': None,\n",
      " 'done': 0,\n",
      " 'id': None,\n",
      " 'name': 'fd998441-c8ad-4cb1-ac3b-2071c50a3c1f',\n",
      " 'started_at': datetime.datetime(2024, 4, 7, 12, 32, 36, 737731),\n",
      " 'status': 'pending',\n",
      " 'total': 1}\n"
     ]
    }
   ],
   "source": [
    "PyObjectId = Annotated[str, BeforeValidator(str)]\n",
    "\n",
    "\n",
    "class Workflows(BaseModel):\n",
    "    id: Optional[PyObjectId] = Field(alias=\"_id\", default=None)\n",
    "    name: str = Field()\n",
    "    status: str = Field(default='pending')\n",
    "    done: int = Field(default=0)         # should this be a bool?\n",
    "    total: int = Field(default=1)           # what is this?\n",
    "    started_at: datetime = Field(default=datetime.now())\n",
    "    completed_at: datetime = Field(default=None)\n",
    "    model_config = ConfigDict(\n",
    "        populate_by_name=True,\n",
    "        arbitrary_types_allowed=True,\n",
    "        json_schema_extra={\n",
    "            'example': {\n",
    "                'name': 'workflow_name',\n",
    "                'status': 'pending',\n",
    "                'done': 0,\n",
    "                'total': 1,\n",
    "                'started_at': '2021'\n",
    "            }\n",
    "        }\n",
    "    )\n",
    "\n",
    "    @field_validator('done','total', mode = \"before\")\n",
    "    @classmethod\n",
    "    def field_must_be_positive(cls, v, info: ValidationInfo):\n",
    "        field = info.field_name\n",
    "        if v < 0:\n",
    "            raise ValueError(f'`{field}` must be positive')\n",
    "        return v\n",
    "\n",
    "    \n",
    "    \n",
    "w = Workflows(\n",
    "    name = str(uuid.uuid4()),\n",
    ")\n",
    "\n",
    "print(w.model_dump())\n"
   ]
  },
  {
   "cell_type": "code",
   "execution_count": null,
   "metadata": {},
   "outputs": [],
   "source": []
  }
 ],
 "metadata": {
  "kernelspec": {
   "display_name": "Python 3 (ipykernel)",
   "language": "python",
   "name": "python3"
  },
  "language_info": {
   "codemirror_mode": {
    "name": "ipython",
    "version": 3
   },
   "file_extension": ".py",
   "mimetype": "text/x-python",
   "name": "python",
   "nbconvert_exporter": "python",
   "pygments_lexer": "ipython3",
   "version": "3.12.2"
  }
 },
 "nbformat": 4,
 "nbformat_minor": 2
}
